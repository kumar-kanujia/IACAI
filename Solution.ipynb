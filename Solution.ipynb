{
 "cells": [
  {
   "cell_type": "code",
   "execution_count": 33,
   "id": "38ba7978",
   "metadata": {},
   "outputs": [],
   "source": [
    "from PIL import Image\n",
    "import os\n",
    "import numpy as np\n",
    "import random\n",
    "import tensorflow as tf\n",
    "\n",
    "model = tf.keras.models.load_model('saved_model/my_model')\n",
    "\n",
    "test=[]\n",
    "test_dir_files = os.listdir('test')\n",
    "for img_name in  test_dir_files:\n",
    "    img=Image.open('test/'+img_name)\n",
    "    img=np.array(img)\n",
    "    test.append(img)\n",
    "test=np.array(test)/255\n",
    "\n",
    "result=[int(x) for x in list(np.argmax(model.predict(test),axis=1))]"
   ]
  },
  {
   "cell_type": "code",
   "execution_count": 35,
   "id": "88c295be",
   "metadata": {},
   "outputs": [],
   "source": [
    "import random\n",
    "import json\n",
    "def write_json(filename, result):\n",
    "    with open(filename, 'w') as outfile:\n",
    "        json.dump(result, outfile)\n",
    "\n",
    "def read_json(filename):\n",
    "    with open(filename, 'r') as outfile:\n",
    "        data =  json.load(outfile)\n",
    "    return data\n",
    "\n",
    "def generate_sample_file(filename):\n",
    "    res = {}\n",
    "    for i in range(len(result)):\n",
    "        test_set = test_dir_files[i]\n",
    "        res[test_set] = result[i]\n",
    "    #return res\n",
    "    write_json(filename, res)\n",
    "\n",
    "if __name__ == '__main__':\n",
    "    generate_sample_file('./result.json')\n"
   ]
  },
  {
   "cell_type": "code",
   "execution_count": null,
   "id": "b11d2374",
   "metadata": {},
   "outputs": [],
   "source": []
  }
 ],
 "metadata": {
  "kernelspec": {
   "display_name": "Python 3 (ipykernel)",
   "language": "python",
   "name": "python3"
  },
  "language_info": {
   "codemirror_mode": {
    "name": "ipython",
    "version": 3
   },
   "file_extension": ".py",
   "mimetype": "text/x-python",
   "name": "python",
   "nbconvert_exporter": "python",
   "pygments_lexer": "ipython3",
   "version": "3.9.6"
  }
 },
 "nbformat": 4,
 "nbformat_minor": 5
}
